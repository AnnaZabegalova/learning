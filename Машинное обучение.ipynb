{
 "cells": [
  {
   "cell_type": "markdown",
   "metadata": {
    "id": "4tc7YC6O8Ev1"
   },
   "source": [
    "# Линейные модели и нейронные сети. Практическая работа"
   ]
  },
  {
   "cell_type": "markdown",
   "metadata": {
    "id": "vSt7qQM58QEB"
   },
   "source": [
    "В этой практической работе пять обязательных задач.\n",
    "\n",
    "Они помогут понять, что вы действительно усвоили материал модуля. \n",
    "\n",
    "Удачи!"
   ]
  },
  {
   "cell_type": "markdown",
   "metadata": {
    "id": "WwzP6BdQ8jbE"
   },
   "source": [
    "## Цели практической работы\n",
    "Потренироваться в обучении модели:\n",
    "- линейной регрессии;\n",
    "- логистической регрессии; \n",
    "- многослойного персептрона."
   ]
  },
  {
   "cell_type": "markdown",
   "metadata": {
    "id": "c4a1bdf2"
   },
   "source": [
    "## Что входит в практическую работу\n",
    "\n",
    "1. Загрузите датасет и ознакомьтесь с ним.\n",
    "2. Обучите линейную регрессию, включая признаки с нулевым весом и без них. Замерьте качество.\n",
    "3. Обучите случайный лес. Замерьте качество.\n",
    "4. Обучите многослойный перцептрон. Замерьте качество.\n",
    "5. Реализуйте стратегию голосования. Замерьте качество."
   ]
  },
  {
   "cell_type": "markdown",
   "metadata": {
    "id": "nPwfq2fISXIk"
   },
   "source": [
    "## Что оценивается\n",
    "\n",
    "* Выполнены все задания. В каждом:\n",
    " * в коде нет ручных перечислений, все действия автоматизированы;\n",
    " * результаты вычислений и применённых операций корректны;\n",
    " * ответы на вопросы, где требуется, корректны и обоснованы; \n",
    " * код читабелен: переменным даны осмысленные названия, соблюдены отступы и правила расстановки пробелов. Стилизация кода соответствует рекомендациям [PEP 8](https://pythonworld.ru/osnovy/pep-8-rukovodstvo-po-napisaniyu-koda-na-python.html).\n",
    " \n",
    "* Репозиторий проекта оформлен корректно:\n",
    " * содержит осмысленные коммиты, содержащие конкретные реализованные фичи;\n",
    " * ветки названы согласно назначению;\n",
    " * файлы, не связанные с проектом, не хранятся в репозитории."
   ]
  },
  {
   "cell_type": "markdown",
   "metadata": {
    "id": "IP-cDDXr-WD0"
   },
   "source": [
    "## Как отправить работу на проверку\n",
    "\n",
    "Сдайте практическую работу этого модуля через систему контроля версий Git сервиса Skillbox GitLab. После загрузки работы на проверку напишите об этом в личном кабинете своему куратору."
   ]
  },
  {
   "cell_type": "markdown",
   "metadata": {
    "id": "dH3j5hM1qCUw"
   },
   "source": [
    "## Задача\n",
    "\n",
    "Постройте модель классификации, определяющую категорию цены / цену подержанного автомобиля в зависимости от характеристик транспортного средства. \n",
    "\n",
    "Используйте датасет из коллекции подержанных автомобилей, выставленных на продажу в Соединенных Штатах. Он уже подготовлен, без выбросов и с категориальными фичами, преобразованными с помощью one hot encoding, и количественными фичами, стандартизированными с помощью скейлеров."
   ]
  },
  {
   "cell_type": "markdown",
   "metadata": {
    "id": "jKgw4zyS8uOJ"
   },
   "source": [
    "### Описание датасета:\n",
    "- `id`— идентификатор записи;\n",
    "- `is_manufacturer_name`— признак производителя автомобиля;\n",
    "\n",
    "- `region_*`— регион;\n",
    "- `x0_*`— тип топлива;\n",
    "- `manufacturer_*`— производитель;\n",
    "- `short_model_*`— сокращённая модель автомобиля;\n",
    "- `title_status_*`— статус;\n",
    "- `transmission_*`— коробка передач;\n",
    "- `state_*`— штат;\n",
    "- `age_category_*`— возрастная категория автомобиля;\n",
    "\n",
    "- `std_scaled_odometer`— количество пройденных миль (после стандартизации);\n",
    "- `year_std`— год выпуска (после стандартизации);\n",
    "- `lat_std`— широта (после стандартизации);\n",
    "- `long_std`— долгота (после стандартизации);\n",
    "- `odometer/price_std`— отношение стоимости к пробегу автомобиля (после стандартизации);\n",
    "- `desc_len_std`— количество символов в тексте объявления о продаже (после стандартизации);\n",
    "- `model_in_desc_std`— количество наименований модели автомобиля в тексте объявления о продаже (после стандартизации);\n",
    "- `model_len_std`— длина наименования автомобиля (после стандартизации);\n",
    "- `model_word_count_std`— количество слов в наименовании автомобиля (после стандартизации);\n",
    "- `month_std`— номер месяца размещения объявления о продаже автомобиля (после стандартизации);\n",
    "- `dayofweek_std`— день недели размещения объявления о продаже автомобиля (после стандартизации);\n",
    "- `diff_years_std`— количество лет между годом производства автомобиля и годом размещения объявления о продаже автомобиля (после стандартизации);\n",
    "- `price`— стоимость;\n",
    "- `price_category`— категория цены."
   ]
  },
  {
   "cell_type": "markdown",
   "metadata": {
    "id": "f8cwJq0l8oyM"
   },
   "source": [
    "## Обязательные задачи"
   ]
  },
  {
   "cell_type": "code",
   "execution_count": 1,
   "metadata": {
    "id": "k-oAmtZi9R8U"
   },
   "outputs": [],
   "source": [
    "import matplotlib.pyplot as plt\n",
    "import pandas as pd\n",
    "\n",
    "from sklearn.linear_model import LogisticRegression, LinearRegression\n",
    "from sklearn.metrics import accuracy_score, confusion_matrix, mean_absolute_error\n",
    "from sklearn.model_selection import train_test_split \n",
    "from sklearn.neural_network import MLPClassifier\n",
    "from sklearn.ensemble import RandomForestClassifier"
   ]
  },
  {
   "cell_type": "code",
   "execution_count": 2,
   "metadata": {
    "colab": {
     "base_uri": "https://localhost:8080/",
     "height": 299
    },
    "id": "a4gi-XV1Jkwc",
    "outputId": "3ba30067-9c82-4b3b-aec1-80b22491ba33"
   },
   "outputs": [
    {
     "data": {
      "text/html": [
       "<div>\n",
       "<style scoped>\n",
       "    .dataframe tbody tr th:only-of-type {\n",
       "        vertical-align: middle;\n",
       "    }\n",
       "\n",
       "    .dataframe tbody tr th {\n",
       "        vertical-align: top;\n",
       "    }\n",
       "\n",
       "    .dataframe thead th {\n",
       "        text-align: right;\n",
       "    }\n",
       "</style>\n",
       "<table border=\"1\" class=\"dataframe\">\n",
       "  <thead>\n",
       "    <tr style=\"text-align: right;\">\n",
       "      <th></th>\n",
       "      <th>id</th>\n",
       "      <th>price</th>\n",
       "      <th>price_category</th>\n",
       "      <th>is_audi</th>\n",
       "      <th>is_ford</th>\n",
       "      <th>is_chevrolet</th>\n",
       "      <th>is_toyota</th>\n",
       "      <th>x0_diesel</th>\n",
       "      <th>x0_electric</th>\n",
       "      <th>x0_gas</th>\n",
       "      <th>...</th>\n",
       "      <th>long_std</th>\n",
       "      <th>year_std</th>\n",
       "      <th>odometer/price_std</th>\n",
       "      <th>desc_len_std</th>\n",
       "      <th>model_in_desc_std</th>\n",
       "      <th>model_len_std</th>\n",
       "      <th>model_word_count_std</th>\n",
       "      <th>month_std</th>\n",
       "      <th>dayofweek_std</th>\n",
       "      <th>diff_years_std</th>\n",
       "    </tr>\n",
       "  </thead>\n",
       "  <tbody>\n",
       "    <tr>\n",
       "      <th>0</th>\n",
       "      <td>7308295377</td>\n",
       "      <td>54990</td>\n",
       "      <td>high</td>\n",
       "      <td>0</td>\n",
       "      <td>0</td>\n",
       "      <td>0</td>\n",
       "      <td>0</td>\n",
       "      <td>1.0</td>\n",
       "      <td>0.0</td>\n",
       "      <td>0.0</td>\n",
       "      <td>...</td>\n",
       "      <td>0.484245</td>\n",
       "      <td>1.322394</td>\n",
       "      <td>-0.510784</td>\n",
       "      <td>0.632075</td>\n",
       "      <td>-0.155788</td>\n",
       "      <td>1.163032</td>\n",
       "      <td>1.910669</td>\n",
       "      <td>-0.615846</td>\n",
       "      <td>1.120284</td>\n",
       "      <td>-1.322394</td>\n",
       "    </tr>\n",
       "    <tr>\n",
       "      <th>1</th>\n",
       "      <td>7316380095</td>\n",
       "      <td>16942</td>\n",
       "      <td>medium</td>\n",
       "      <td>0</td>\n",
       "      <td>1</td>\n",
       "      <td>0</td>\n",
       "      <td>0</td>\n",
       "      <td>0.0</td>\n",
       "      <td>0.0</td>\n",
       "      <td>0.0</td>\n",
       "      <td>...</td>\n",
       "      <td>1.110800</td>\n",
       "      <td>0.695973</td>\n",
       "      <td>-0.402947</td>\n",
       "      <td>-0.646781</td>\n",
       "      <td>-0.155788</td>\n",
       "      <td>0.932087</td>\n",
       "      <td>1.235799</td>\n",
       "      <td>1.623784</td>\n",
       "      <td>-1.374972</td>\n",
       "      <td>-0.695973</td>\n",
       "    </tr>\n",
       "    <tr>\n",
       "      <th>2</th>\n",
       "      <td>7313733749</td>\n",
       "      <td>35590</td>\n",
       "      <td>high</td>\n",
       "      <td>0</td>\n",
       "      <td>0</td>\n",
       "      <td>0</td>\n",
       "      <td>0</td>\n",
       "      <td>0.0</td>\n",
       "      <td>0.0</td>\n",
       "      <td>1.0</td>\n",
       "      <td>...</td>\n",
       "      <td>0.531185</td>\n",
       "      <td>0.852578</td>\n",
       "      <td>-0.514480</td>\n",
       "      <td>0.560744</td>\n",
       "      <td>-0.155788</td>\n",
       "      <td>0.470197</td>\n",
       "      <td>0.560930</td>\n",
       "      <td>-0.615846</td>\n",
       "      <td>-0.376870</td>\n",
       "      <td>-0.852578</td>\n",
       "    </tr>\n",
       "    <tr>\n",
       "      <th>3</th>\n",
       "      <td>7308210929</td>\n",
       "      <td>14500</td>\n",
       "      <td>medium</td>\n",
       "      <td>0</td>\n",
       "      <td>0</td>\n",
       "      <td>0</td>\n",
       "      <td>1</td>\n",
       "      <td>0.0</td>\n",
       "      <td>0.0</td>\n",
       "      <td>1.0</td>\n",
       "      <td>...</td>\n",
       "      <td>0.853562</td>\n",
       "      <td>0.226157</td>\n",
       "      <td>-0.241883</td>\n",
       "      <td>0.180435</td>\n",
       "      <td>-0.155788</td>\n",
       "      <td>-0.915473</td>\n",
       "      <td>-0.788810</td>\n",
       "      <td>-0.615846</td>\n",
       "      <td>1.120284</td>\n",
       "      <td>-0.226157</td>\n",
       "    </tr>\n",
       "    <tr>\n",
       "      <th>4</th>\n",
       "      <td>7303797340</td>\n",
       "      <td>14590</td>\n",
       "      <td>medium</td>\n",
       "      <td>0</td>\n",
       "      <td>0</td>\n",
       "      <td>0</td>\n",
       "      <td>0</td>\n",
       "      <td>0.0</td>\n",
       "      <td>0.0</td>\n",
       "      <td>0.0</td>\n",
       "      <td>...</td>\n",
       "      <td>0.557607</td>\n",
       "      <td>0.069552</td>\n",
       "      <td>-0.333074</td>\n",
       "      <td>0.766366</td>\n",
       "      <td>-0.155788</td>\n",
       "      <td>1.163032</td>\n",
       "      <td>1.910669</td>\n",
       "      <td>-0.615846</td>\n",
       "      <td>0.122182</td>\n",
       "      <td>-0.069552</td>\n",
       "    </tr>\n",
       "  </tbody>\n",
       "</table>\n",
       "<p>5 rows × 1463 columns</p>\n",
       "</div>"
      ],
      "text/plain": [
       "           id  price price_category  is_audi  is_ford  is_chevrolet  \\\n",
       "0  7308295377  54990           high        0        0             0   \n",
       "1  7316380095  16942         medium        0        1             0   \n",
       "2  7313733749  35590           high        0        0             0   \n",
       "3  7308210929  14500         medium        0        0             0   \n",
       "4  7303797340  14590         medium        0        0             0   \n",
       "\n",
       "   is_toyota  x0_diesel  x0_electric  x0_gas  ...  long_std  year_std  \\\n",
       "0          0        1.0          0.0     0.0  ...  0.484245  1.322394   \n",
       "1          0        0.0          0.0     0.0  ...  1.110800  0.695973   \n",
       "2          0        0.0          0.0     1.0  ...  0.531185  0.852578   \n",
       "3          1        0.0          0.0     1.0  ...  0.853562  0.226157   \n",
       "4          0        0.0          0.0     0.0  ...  0.557607  0.069552   \n",
       "\n",
       "   odometer/price_std  desc_len_std  model_in_desc_std  model_len_std  \\\n",
       "0           -0.510784      0.632075          -0.155788       1.163032   \n",
       "1           -0.402947     -0.646781          -0.155788       0.932087   \n",
       "2           -0.514480      0.560744          -0.155788       0.470197   \n",
       "3           -0.241883      0.180435          -0.155788      -0.915473   \n",
       "4           -0.333074      0.766366          -0.155788       1.163032   \n",
       "\n",
       "   model_word_count_std  month_std  dayofweek_std  diff_years_std  \n",
       "0              1.910669  -0.615846       1.120284       -1.322394  \n",
       "1              1.235799   1.623784      -1.374972       -0.695973  \n",
       "2              0.560930  -0.615846      -0.376870       -0.852578  \n",
       "3             -0.788810  -0.615846       1.120284       -0.226157  \n",
       "4              1.910669  -0.615846       0.122182       -0.069552  \n",
       "\n",
       "[5 rows x 1463 columns]"
      ]
     },
     "execution_count": 2,
     "metadata": {},
     "output_type": "execute_result"
    }
   ],
   "source": [
    "df = pd.read_csv('C:/Users/moroz/Documents/zab/ds-intro/23_linear_model/data/vehicles_dataset_prepared.csv')\n",
    "df.head()"
   ]
  },
  {
   "cell_type": "markdown",
   "metadata": {
    "id": "VMmY9Xa-JdRj"
   },
   "source": [
    "**Задача 1. Линейная регрессия**\n",
    "\n",
    "Вспомните задачу по предсказанию стоимости подержанного автомобиля. Попробуйте обучить модель линейной регрессии для предсказания цены автомобиля (колонка `price`). Для этого сделайте шаги:\n",
    "\n",
    "- подготовьте данные: удалите колонки, которые косвенно содержат информацию о целевой переменной (`odometer/price_std`, `price_category`);\n",
    "- разделите выборку на треин и тест в отношении 70/30;\n",
    "- обучите модель линейной регрессии с дефолтными параметрами;\n",
    "- посчитайте значение метрики mae на тестовой выборке для линейной регрессии;\n",
    "- выведите получившиеся коэффициенты линейной регрессии при каждом параметре обучающей выборки с помощью метода `coef_` (есть ли коэффициенты, которые равны нулю? Если есть, выведите названия фичей с нулевым коэффициентом);\n",
    "- удалите фичи, коэффициенты которых равны нулю; переобучите модель; убедитесь, что значение метрики не изменилось.\n",
    "\n"
   ]
  },
  {
   "cell_type": "code",
   "execution_count": 3,
   "metadata": {
    "id": "i1tH2p0nopsf"
   },
   "outputs": [
    {
     "data": {
      "text/plain": [
       "LinearRegression()"
      ]
     },
     "execution_count": 3,
     "metadata": {},
     "output_type": "execute_result"
    }
   ],
   "source": [
    "df_prepared = df.drop(['odometer/price_std', 'price_category'], axis = 1)\n",
    "x = df_prepared.drop(['price'],axis = 1)\n",
    "y = df_prepared.price\n",
    "x_train, x_test, y_train, y_test = train_test_split(x, y, test_size = 0.3, random_state=42)\n",
    "lr = LinearRegression()\n",
    "lr.fit(x_train, y_train)"
   ]
  },
  {
   "cell_type": "code",
   "execution_count": 4,
   "metadata": {},
   "outputs": [
    {
     "data": {
      "text/plain": [
       "4600.341120179553"
      ]
     },
     "execution_count": 4,
     "metadata": {},
     "output_type": "execute_result"
    }
   ],
   "source": [
    "pred = lr.predict(x_test)\n",
    "mean_absolute_error(y_test, pred)"
   ]
  },
  {
   "cell_type": "code",
   "execution_count": 5,
   "metadata": {},
   "outputs": [
    {
     "data": {
      "text/plain": [
       "array([ 6.35951029e-06,  2.54295971e+02,  1.07390588e+03, ...,\n",
       "       -1.66691605e+02,  2.30504369e+01, -2.80398280e+03])"
      ]
     },
     "execution_count": 5,
     "metadata": {},
     "output_type": "execute_result"
    }
   ],
   "source": [
    "lr.coef_"
   ]
  },
  {
   "cell_type": "code",
   "execution_count": 6,
   "metadata": {},
   "outputs": [
    {
     "data": {
      "text/plain": [
       "[('manufacturer_ferrari', 0.0)]"
      ]
     },
     "execution_count": 6,
     "metadata": {},
     "output_type": "execute_result"
    }
   ],
   "source": [
    "imp = list(zip(x.columns, lr.coef_))\n",
    "[(col, i) for col, i in imp if i == 0]"
   ]
  },
  {
   "cell_type": "code",
   "execution_count": 7,
   "metadata": {},
   "outputs": [
    {
     "data": {
      "text/plain": [
       "LinearRegression()"
      ]
     },
     "execution_count": 7,
     "metadata": {},
     "output_type": "execute_result"
    }
   ],
   "source": [
    "df_new = df_prepared.drop(['manufacturer_ferrari'], axis = 1)\n",
    "x1 = df_new.drop(['price'],axis = 1)\n",
    "y1 = df_new.price\n",
    "x1_train, x1_test, y1_train, y1_test = train_test_split(x1, y1, test_size = 0.3, random_state=42)\n",
    "lr1 = LinearRegression()\n",
    "lr1.fit(x1_train, y1_train)"
   ]
  },
  {
   "cell_type": "code",
   "execution_count": 8,
   "metadata": {},
   "outputs": [
    {
     "data": {
      "text/plain": [
       "4600.341121196463"
      ]
     },
     "execution_count": 8,
     "metadata": {},
     "output_type": "execute_result"
    }
   ],
   "source": [
    "pred1 = lr1.predict(x1_test)\n",
    "mean_absolute_error(y1_test, pred1)"
   ]
  },
  {
   "cell_type": "markdown",
   "metadata": {
    "id": "n3d55h5IQZoC"
   },
   "source": [
    "**Задача 2. Логистическая регрессия**\n",
    "\n",
    "Теперь в рамках тех же данных попробуйте предсказать `price_category` с помощью алгоритма логистической регрессии. Предварительно из датафрейма удалите переменные, в которых косвенно содержится информация о целевой переменной (`odometer/price_std`, `price`). \n",
    "\n",
    "Для обученной модели:\n",
    "\n",
    "- рассчитайте и выведите метрику качества (accuracy) на тренировочной выборке;\n",
    "- сделайте предикт на тестовых данных и положите его в переменную `logreg_pred`;\n",
    "- рассчитайте и выведите accuracy и confusion_matrix на тестовой выборке.\n",
    "\n",
    "Обратите внимание, что это задание засчитывается, если: \n",
    "- accuracy на тренировочной выборке > 87%;\n",
    "- accuracy на тестовой выборке > 75.5%.\n",
    "\n",
    "Для улучшения метрики можно преобразовывать входные данные и тюнить параметры логистической регрессии."
   ]
  },
  {
   "cell_type": "code",
   "execution_count": 9,
   "metadata": {
    "id": "tZpWbWaMootx"
   },
   "outputs": [],
   "source": [
    "df_prep = df.drop(['odometer/price_std', 'price', 'id'], axis = 1)\n",
    "x2 = df_prep.drop(['price_category'], axis = 1)\n",
    "y2 = df_prep.price_category\n",
    "\n",
    "x2_train, x2_test, y2_train, y2_test = train_test_split(x2, y2, test_size=0.3, random_state=35)"
   ]
  },
  {
   "cell_type": "code",
   "execution_count": 10,
   "metadata": {
    "id": "XQL-04-XpD_n"
   },
   "outputs": [
    {
     "name": "stderr",
     "output_type": "stream",
     "text": [
      "C:\\Users\\moroz\\anaconda3\\lib\\site-packages\\sklearn\\utils\\optimize.py:210: ConvergenceWarning: newton-cg failed to converge. Increase the number of iterations.\n",
      "  warnings.warn(\n"
     ]
    },
    {
     "data": {
      "text/plain": [
       "LogisticRegression(penalty='none', solver='newton-cg')"
      ]
     },
     "execution_count": 10,
     "metadata": {},
     "output_type": "execute_result"
    }
   ],
   "source": [
    "lg = LogisticRegression(penalty='none', solver='newton-cg')\n",
    "lg.fit(x2_train, y2_train)"
   ]
  },
  {
   "cell_type": "code",
   "execution_count": 11,
   "metadata": {},
   "outputs": [
    {
     "data": {
      "text/plain": [
       "0.894846279518788"
      ]
     },
     "execution_count": 11,
     "metadata": {},
     "output_type": "execute_result"
    }
   ],
   "source": [
    "pred2 = lg.predict(x2_train)\n",
    "accuracy_score(y2_train, pred2)"
   ]
  },
  {
   "cell_type": "code",
   "execution_count": 12,
   "metadata": {},
   "outputs": [
    {
     "data": {
      "text/plain": [
       "0.7623007623007623"
      ]
     },
     "execution_count": 12,
     "metadata": {},
     "output_type": "execute_result"
    }
   ],
   "source": [
    "logreg_pred = lg.predict(x2_test)\n",
    "accuracy_score(y2_test, logreg_pred)"
   ]
  },
  {
   "cell_type": "code",
   "execution_count": 13,
   "metadata": {},
   "outputs": [
    {
     "data": {
      "text/plain": [
       "array([[813,  23, 132],\n",
       "       [ 32, 772, 168],\n",
       "       [125, 206, 615]], dtype=int64)"
      ]
     },
     "execution_count": 13,
     "metadata": {},
     "output_type": "execute_result"
    }
   ],
   "source": [
    "confusion_matrix(y2_test, logreg_pred)"
   ]
  },
  {
   "cell_type": "code",
   "execution_count": null,
   "metadata": {},
   "outputs": [],
   "source": []
  },
  {
   "cell_type": "markdown",
   "metadata": {
    "id": "sPYGPr0ssX1l"
   },
   "source": [
    "**Задача 3. Многослойный персептрон**\n",
    "\n",
    "Решите задачу, поставленную в предыдущем задании, применив модель многослойного персептрона. С помощью данного алгоритма добейтесь лучших значений точности на тренировочной и тестовой выборках, чем на логистической регрессии. \n",
    "\n",
    "Увеличение точности в данном задании, по сравнению с предыдущим, должно быть больше увеличения 0.01 по метрике accuracy."
   ]
  },
  {
   "cell_type": "code",
   "execution_count": 14,
   "metadata": {
    "id": "1CWqF0Pl44IW"
   },
   "outputs": [
    {
     "data": {
      "text/plain": [
       "MLPClassifier(max_iter=500, random_state=42)"
      ]
     },
     "execution_count": 14,
     "metadata": {},
     "output_type": "execute_result"
    }
   ],
   "source": [
    "mlp = MLPClassifier(max_iter=500, random_state=42)\n",
    "mlp.fit(x2_train, y2_train)"
   ]
  },
  {
   "cell_type": "code",
   "execution_count": 15,
   "metadata": {},
   "outputs": [
    {
     "data": {
      "text/plain": [
       "1.0"
      ]
     },
     "execution_count": 15,
     "metadata": {},
     "output_type": "execute_result"
    }
   ],
   "source": [
    "pred_mlp = mlp.predict(x2_train)\n",
    "accuracy_score(y2_train, pred_mlp)"
   ]
  },
  {
   "cell_type": "code",
   "execution_count": 16,
   "metadata": {},
   "outputs": [
    {
     "data": {
      "text/plain": [
       "0.7789327789327789"
      ]
     },
     "execution_count": 16,
     "metadata": {},
     "output_type": "execute_result"
    }
   ],
   "source": [
    "pred_mlp1 = mlp.predict(x2_test)\n",
    "accuracy_score(y2_test, pred_mlp1)"
   ]
  },
  {
   "cell_type": "markdown",
   "metadata": {
    "id": "6ru5oLsGBOLv"
   },
   "source": [
    "**Задача 4. Сравнение с древовидными моделями**\n",
    "\n",
    "Обучите модель случайного леса на тех же данных для предсказания `price_category`. Сравните качество с моделью логистической регрессии и многослойного персептрона. Словами опишите, какая из моделей в каких случаях работает лучше по результатам на тестовой выборке, обоснуйте свой выбор."
   ]
  },
  {
   "cell_type": "code",
   "execution_count": 17,
   "metadata": {
    "id": "gYFQzRHM41Dg"
   },
   "outputs": [
    {
     "data": {
      "text/plain": [
       "RandomForestClassifier()"
      ]
     },
     "execution_count": 17,
     "metadata": {},
     "output_type": "execute_result"
    }
   ],
   "source": [
    "forest = RandomForestClassifier()\n",
    "forest.fit(x2_train, y2_train)"
   ]
  },
  {
   "cell_type": "code",
   "execution_count": 18,
   "metadata": {},
   "outputs": [
    {
     "data": {
      "text/plain": [
       "(1.0, 0.7772002772002772)"
      ]
     },
     "execution_count": 18,
     "metadata": {},
     "output_type": "execute_result"
    }
   ],
   "source": [
    "pred_for = forest.predict(x2_train)\n",
    "pred_for1 = forest.predict(x2_test)\n",
    "accuracy_score(y2_train, pred_for), accuracy_score(y2_test, pred_for1)"
   ]
  },
  {
   "cell_type": "code",
   "execution_count": null,
   "metadata": {},
   "outputs": [],
   "source": []
  },
  {
   "cell_type": "markdown",
   "metadata": {
    "id": "-DrgXqjv2Rgk"
   },
   "source": [
    "**Задача 5. Стратегия голосования**\n",
    "\n",
    "Реализуйте стратегию голосования для предсказания целевой переменной.\n",
    "Голосование в задаче классификации — это когда несколько моделей выдают свои предикты, и финальным выбирается тот предикт, который предсказали большинство моделей.\n",
    "\n",
    "Для реализации этой стратегии проделайте следующее:\n",
    "\n",
    "- сохраните предсказания каждой из моделей (случайный лес, многослойный персептрон, логистическая регрессия) для тестовой выборки в датафрейм `pred_df`;\n",
    "- в четвёртую колонку `target` положите тот класс, который предсказало большинство классификаторов; например, если в строке были значения `high, medium, medium`, в `target` нужно положить `medium`;\n",
    "\n",
    "     если в строке три разных класса (`high, medium, low`), придумайте свою стратегию по выбору значения; самая простая стратегия — выбрать рандомно одно значение из трёх;\n",
    "\n",
    "- посчитайте точность предсказания с помощью голосования; выведите значения метрик accuracy и confusion_matrix.\n",
    "\n",
    "Добейтесь значения точности > 78%."
   ]
  },
  {
   "cell_type": "code",
   "execution_count": 64,
   "metadata": {
    "id": "KKTpNxaK5UhX"
   },
   "outputs": [
    {
     "data": {
      "text/html": [
       "<div>\n",
       "<style scoped>\n",
       "    .dataframe tbody tr th:only-of-type {\n",
       "        vertical-align: middle;\n",
       "    }\n",
       "\n",
       "    .dataframe tbody tr th {\n",
       "        vertical-align: top;\n",
       "    }\n",
       "\n",
       "    .dataframe thead th {\n",
       "        text-align: right;\n",
       "    }\n",
       "</style>\n",
       "<table border=\"1\" class=\"dataframe\">\n",
       "  <thead>\n",
       "    <tr style=\"text-align: right;\">\n",
       "      <th></th>\n",
       "      <th>logreg</th>\n",
       "      <th>mlp</th>\n",
       "      <th>forest</th>\n",
       "    </tr>\n",
       "  </thead>\n",
       "  <tbody>\n",
       "    <tr>\n",
       "      <th>0</th>\n",
       "      <td>medium</td>\n",
       "      <td>medium</td>\n",
       "      <td>medium</td>\n",
       "    </tr>\n",
       "    <tr>\n",
       "      <th>1</th>\n",
       "      <td>low</td>\n",
       "      <td>low</td>\n",
       "      <td>low</td>\n",
       "    </tr>\n",
       "    <tr>\n",
       "      <th>2</th>\n",
       "      <td>high</td>\n",
       "      <td>high</td>\n",
       "      <td>high</td>\n",
       "    </tr>\n",
       "    <tr>\n",
       "      <th>3</th>\n",
       "      <td>high</td>\n",
       "      <td>high</td>\n",
       "      <td>high</td>\n",
       "    </tr>\n",
       "    <tr>\n",
       "      <th>4</th>\n",
       "      <td>low</td>\n",
       "      <td>low</td>\n",
       "      <td>low</td>\n",
       "    </tr>\n",
       "  </tbody>\n",
       "</table>\n",
       "</div>"
      ],
      "text/plain": [
       "   logreg     mlp  forest\n",
       "0  medium  medium  medium\n",
       "1     low     low     low\n",
       "2    high    high    high\n",
       "3    high    high    high\n",
       "4     low     low     low"
      ]
     },
     "execution_count": 64,
     "metadata": {},
     "output_type": "execute_result"
    }
   ],
   "source": [
    "pred_df = pd.DataFrame({'logreg':logreg_pred, 'mlp':pred_mlp1, 'forest':pred_for1})\n",
    "pred_df.head()"
   ]
  },
  {
   "cell_type": "code",
   "execution_count": 65,
   "metadata": {},
   "outputs": [
    {
     "data": {
      "text/html": [
       "<div>\n",
       "<style scoped>\n",
       "    .dataframe tbody tr th:only-of-type {\n",
       "        vertical-align: middle;\n",
       "    }\n",
       "\n",
       "    .dataframe tbody tr th {\n",
       "        vertical-align: top;\n",
       "    }\n",
       "\n",
       "    .dataframe thead th {\n",
       "        text-align: right;\n",
       "    }\n",
       "</style>\n",
       "<table border=\"1\" class=\"dataframe\">\n",
       "  <thead>\n",
       "    <tr style=\"text-align: right;\">\n",
       "      <th></th>\n",
       "      <th>logreg</th>\n",
       "      <th>mlp</th>\n",
       "      <th>forest</th>\n",
       "      <th>target</th>\n",
       "    </tr>\n",
       "  </thead>\n",
       "  <tbody>\n",
       "    <tr>\n",
       "      <th>0</th>\n",
       "      <td>medium</td>\n",
       "      <td>medium</td>\n",
       "      <td>medium</td>\n",
       "      <td>medium</td>\n",
       "    </tr>\n",
       "    <tr>\n",
       "      <th>1</th>\n",
       "      <td>low</td>\n",
       "      <td>low</td>\n",
       "      <td>low</td>\n",
       "      <td>low</td>\n",
       "    </tr>\n",
       "    <tr>\n",
       "      <th>2</th>\n",
       "      <td>high</td>\n",
       "      <td>high</td>\n",
       "      <td>high</td>\n",
       "      <td>high</td>\n",
       "    </tr>\n",
       "    <tr>\n",
       "      <th>3</th>\n",
       "      <td>high</td>\n",
       "      <td>high</td>\n",
       "      <td>high</td>\n",
       "      <td>high</td>\n",
       "    </tr>\n",
       "    <tr>\n",
       "      <th>4</th>\n",
       "      <td>low</td>\n",
       "      <td>low</td>\n",
       "      <td>low</td>\n",
       "      <td>low</td>\n",
       "    </tr>\n",
       "  </tbody>\n",
       "</table>\n",
       "</div>"
      ],
      "text/plain": [
       "   logreg     mlp  forest  target\n",
       "0  medium  medium  medium  medium\n",
       "1     low     low     low     low\n",
       "2    high    high    high    high\n",
       "3    high    high    high    high\n",
       "4     low     low     low     low"
      ]
     },
     "execution_count": 65,
     "metadata": {},
     "output_type": "execute_result"
    }
   ],
   "source": [
    "pred_df['target'] = pred_df.mode(axis=1)[0]\n",
    "pred_df.head()"
   ]
  },
  {
   "cell_type": "code",
   "execution_count": 68,
   "metadata": {},
   "outputs": [
    {
     "data": {
      "text/plain": [
       "0.7920997920997921"
      ]
     },
     "execution_count": 68,
     "metadata": {},
     "output_type": "execute_result"
    }
   ],
   "source": [
    "accuracy_score(y2_test, pred_df['target'])"
   ]
  },
  {
   "cell_type": "code",
   "execution_count": null,
   "metadata": {},
   "outputs": [],
   "source": [
    "confusion_matrix(y2_test, pred_df['target'])"
   ]
  },
  {
   "cell_type": "code",
   "execution_count": null,
   "metadata": {},
   "outputs": [],
   "source": []
  },
  {
   "cell_type": "code",
   "execution_count": null,
   "metadata": {},
   "outputs": [],
   "source": []
  },
  {
   "cell_type": "code",
   "execution_count": null,
   "metadata": {},
   "outputs": [],
   "source": []
  },
  {
   "cell_type": "markdown",
   "metadata": {
    "id": "FmuF3_05i2AD"
   },
   "source": [
    "**Примечание**\n",
    "\n",
    "В этой практической работе перед вами встал выбор: включать ли колонку `id`. При удалении данной колонки во время обучения логистической регрессии качество заметно улучшается.\n",
    "\n",
    "Обучать любую модель (будь то логистическая, линейная регрессия или древовидный алгоритм) на данных айдишников не считается хорошей практикой. Как правило, между `id` и целевой переменной не должно быть никаких взаимосвязей. Включая колонку `id` в качества атрибута в обучение, вы стараетесь подогнать результаты своей модели под айдишники записей. Таким образом модель обучится на некотором наборе частных случаев и, возможно, не обратит внимание на общие зависимости.   "
   ]
  }
 ],
 "metadata": {
  "colab": {
   "collapsed_sections": [],
   "provenance": []
  },
  "kernelspec": {
   "display_name": "Python 3 (ipykernel)",
   "language": "python",
   "name": "python3"
  },
  "language_info": {
   "codemirror_mode": {
    "name": "ipython",
    "version": 3
   },
   "file_extension": ".py",
   "mimetype": "text/x-python",
   "name": "python",
   "nbconvert_exporter": "python",
   "pygments_lexer": "ipython3",
   "version": "3.9.12"
  }
 },
 "nbformat": 4,
 "nbformat_minor": 1
}
